import os
import cv2
import numpy as np
from mtcnn import MTCNN
from tqdm import tqdm
import logging

DATA_PATH = r"D:\DFD_extracted_frames"
FRAMES_DIR = os.path.join(DATA_PATH, "frames")
PREPROCESSED_DIR = os.path.join(DATA_PATH, "preprocessed_frames")
LABELS = ["real", "fake"]
IMG_SIZE = 128

def setup_logging(level=logging.INFO):
    logging.basicConfig(
        level=level,
        format="%(asctime)s %(levelname)s: %(message)s"
    )

def get_detector():
    return MTCNN()

def detect_and_align_face(image_array, detector):
    image_rgb = cv2.cvtColor(image_array, cv2.COLOR_BGR2RGB)
    faces = detector.detect_faces(image_rgb)
    if faces:
        face = max(faces, key=lambda x: x['confidence'])
        x, y, w, h = face['box']
        x, y = max(x, 0), max(y, 0)
        cropped = image_array[y:y+h, x:x+w]
        return cv2.resize(cropped, (IMG_SIZE, IMG_SIZE))
    return cv2.resize(image_array, (IMG_SIZE, IMG_SIZE))

def preprocess_directory(src_dir, dst_dir, detector):
    if not os.path.exists(dst_dir):
        os.makedirs(dst_dir, exist_ok=True)
    files = [f for f in os.listdir(src_dir) if os.path.isfile(os.path.join(src_dir, f))]
    for fname in tqdm(files, desc=f"Preprocessing {src_dir}", leave=False):
        src_path = os.path.join(src_dir, fname)
        dst_path = os.path.join(dst_dir, fname)
        try:
            img = cv2.imread(src_path)
            if img is None:
                logging.warning(f"Failed to read image: {src_path}")
                continue
            cropped = detect_and_align_face(img, detector)
            cv2.imwrite(dst_path, cropped)
        except Exception as e:
            logging.warning(f"Error processing {src_path}: {e}")

if __name__ == "__main__":
    setup_logging()
    detector = get_detector()
    for label in LABELS:
        src_dir = os.path.join(FRAMES_DIR, label)
        dst_dir = os.path.join(PREPROCESSED_DIR, label)
        if not os.path.exists(src_dir):
            logging.warning(f"Source directory does not exist: {src_dir}")
            continue
        preprocess_directory(src_dir, dst_dir, detector)
