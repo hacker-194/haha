import os
import cv2
import numpy as np
import logging
from mtcnn import MTCNN
from tqdm import tqdm

def setup_logging(level=logging.INFO):
    logging.basicConfig(level=level, format="%(asctime)s %(levelname)s %(message)s")

_detector = None
def get_detector():
    global _detector
    if _detector is None:
        _detector = MTCNN()
    return _detector

def detect_and_crop_face(image_array: np.ndarray, detector=None) -> np.ndarray:
    detector = detector or get_detector()
    if image_array.shape[-1] == 3:
        try:
            image_rgb = cv2.cvtColor(image_array, cv2.COLOR_BGR2RGB)
        except Exception:
            image_rgb = image_array
    else:
        image_rgb = image_array
    faces = detector.detect_faces(image_rgb)
    if faces:
        faces = sorted(faces, key=lambda f: (f['confidence'], f['box'][2]*f['box'][3]), reverse=True)
        x, y, w, h = faces[0]['box']
        x, y = max(0, x), max(0, y)
        x2, y2 = min(x + w, image_rgb.shape[1]), min(y + h, image_rgb.shape[0])
        cropped = image_rgb[y:y2, x:x2]
        return cropped
    return image_rgb

def preprocess_image(
    image_array: np.ndarray,
    use_face_crop: bool = True,
    output_size: int = 128,
    model_type: str = "lstm"
) -> np.ndarray:
    img = image_array.copy()
    if use_face_crop:
        img = detect_and_crop_face(img)
    img = cv2.resize(img, (output_size, output_size))
    if model_type == "efficientnet":
        from tensorflow.keras.applications.efficientnet import preprocess_input
        img = preprocess_input(img.astype(np.float32))
    else:
        img = img.astype(np.float32) / 255.0
    return img

def preprocess_directory(input_dir, output_dir, use_face_crop=True, output_size=128, model_type="lstm"):
    os.makedirs(output_dir, exist_ok=True)
    detector = get_detector()
    files = [f for f in os.listdir(input_dir) if f.lower().endswith(('.jpg', '.jpeg', '.png'))]
    for fname in tqdm(files, desc=f"Preprocessing {os.path.basename(input_dir)}"):
        in_path = os.path.join(input_dir, fname)
        out_path = os.path.join(output_dir, fname)
        img = cv2.imread(in_path)
        if img is None:
            logging.warning(f"Could not read image: {in_path}")
            continue
        proc = preprocess_image(img, use_face_crop=use_face_crop, output_size=output_size, model_type=model_type)
        out_img = (proc * 255).astype(np.uint8)
        cv2.imwrite(out_path, cv2.cvtColor(out_img, cv2.COLOR_RGB2BGR))

if __name__ == "__main__":
    import argparse
    setup_logging()
    parser = argparse.ArgumentParser(description="Preprocess images with optional face cropping.")
    parser.add_argument("--input_dir", required=True, help="Input image directory")
    parser.add_argument("--output_dir", required=True, help="Output directory")
    parser.add_argument("--use_face_crop", action="store_true", help="Crop faces using MTCNN")
    parser.add_argument("--output_size", type=int, default=128, help="Output image size")
    parser.add_argument("--model_type", type=str, default="lstm", help="Model type (lstm or efficientnet)")
    args = parser.parse_args()
    preprocess_directory(args.input_dir, args.output_dir, use_face_crop=args.use_face_crop, output_size=args.output_size, model_type=args.model_type)
