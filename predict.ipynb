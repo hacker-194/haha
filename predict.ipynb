import os
import numpy as np
import cv2
from tensorflow.keras.models import load_model

IMG_SIZE = 224
MODEL_PATH = os.path.join("data", "current_model.h5")  # change if model is elsewhere

def preprocess_image(img_path):
    img = cv2.imread(img_path)
    if img is None:
        raise ValueError(f"Could not read image: {img_path}")
    img = cv2.cvtColor(img, cv2.COLOR_BGR2RGB)
    img = cv2.resize(img, (IMG_SIZE, IMG_SIZE))
    img = img.astype(np.float32) / 255.0
    return img

def predict_image(img_path, model):
    img = preprocess_image(img_path)
    img_batch = np.expand_dims(img, axis=0)
    pred = model.predict(img_batch)
    if pred.shape[-1] == 1:
        prob = float(pred[0][0])
        label = "FAKE" if prob > 0.5 else "REAL"
    else:
        prob = float(pred[0][1])  # assuming [REAL, FAKE] softmax
        label = "FAKE" if prob > 0.5 else "REAL"
    return {"prob": prob, "label": label}

if __name__ == "__main__":
    import argparse
    parser = argparse.ArgumentParser(description="Deepfake Prediction Script")
    parser.add_argument("image", type=str, help="Path to the image file")
    parser.add_argument("--model", type=str, default=MODEL_PATH, help="Path to the model file")
    args = parser.parse_args()

    model = load_model(args.model)
    result = predict_image(args.image, model)
    print(f"Prediction: {result['label']}, Probability: {result['prob']:.4f}")
